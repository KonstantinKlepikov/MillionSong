{
 "cells": [
  {
   "cell_type": "code",
   "execution_count": null,
   "metadata": {
    "collapsed": true
   },
   "outputs": [],
   "source": [
    "import os\n",
    "import sys\n",
    "import sqlite3\n",
    "import numpy as np\n",
    "import pandas as pd\n",
    "import seaborn as sns\n",
    "import cPickle as pickle\n",
    "import matplotlib.pyplot as plt\n",
    "\n",
    "from nltk.corpus import stopwords\n",
    "from sklearn.utils import shuffle\n",
    "\n",
    "mxm_db_path      = \"../mxm_dataset.db\"\n",
    "msd_meta_db_path = \"../MillionSongSubset/AdditionalFiles/subset_track_metadata.db\"\n",
    "msd_sim_db_path  = \"../MillionSongSubset/AdditionalFiles/subset_artist_similarity.db\"\n",
    "\n",
    "assert os.path.isfile(mxm_db_path)      ,'wrong filepath'\n",
    "assert os.path.isfile(msd_sim_db_path)  ,'wrong filepath'\n",
    "assert os.path.isfile(msd_meta_db_path) ,'wrong filepath'"
   ]
  },
  {
   "cell_type": "code",
   "execution_count": null,
   "metadata": {
    "collapsed": true
   },
   "outputs": [],
   "source": [
    "con_mxm = sqlite3.connect(mxm_db_path)\n",
    "cur_mxm = con_mxm.cursor()\n",
    "\n",
    "con_met = sqlite3.connect(msd_meta_db_path)\n",
    "cur_met = con_met.cursor()\n",
    "\n",
    "words      = pd.read_sql_query(\"SELECT * FROM words\" , con_mxm)\n",
    "lyrics     = pd.read_sql_query(\"SELECT * FROM lyrics ORDER BY track_id ASC LIMIT 50000\", con_mxm)\n",
    "songs      = pd.read_sql_query(\"SELECT * FROM songs ORDER BY track_id ASC\", con_met)"
   ]
  },
  {
   "cell_type": "code",
   "execution_count": null,
   "metadata": {
    "collapsed": true
   },
   "outputs": [],
   "source": [
    "def get_n_songs(lyrics_df, n_songs=1 ,random=False):\n",
    "    \n",
    "    track_ids = lyrics.track_id.unique()\n",
    "    \n",
    "    if n_songs > len(track_ids):\n",
    "        print('n_songs greater than the number of tracks ({}) ...'.format(len(track_ids)))\n",
    "        print('... return the whole dataset')\n",
    "        return lyrics_df\n",
    "    \n",
    "    if random == True :\n",
    "        track_to_keep = np.random.choice(track_ids, n_songs, replace=False)\n",
    "    elif random == False :\n",
    "        track_to_keep = track_ids[:n_songs]\n",
    "\n",
    "    lyrics_subset = lyrics_df[lyrics_df['track_id'].isin(track_to_keep)]\n",
    "    \n",
    "    return lyrics_subset\n",
    "\n",
    "def pivot_by_chunks(lyrics_df, n_chunks=3, sparse=True):\n",
    "    print('Processing chunk number 0')\n",
    "    track_list = np.array_split(lyrics_df.track_id.unique(), n_chunks)\n",
    "    df0 = lyrics_df[lyrics_df['track_id'].isin(track_list[0])]\n",
    "    pivot_df = df0.pivot_table(index='track_id', columns=words, values='count', fill_value=0)\n",
    "    del df0\n",
    "    pivot_df = pivot_df.to_sparse(fill_value=0)\n",
    "\n",
    "    for i in range(1, n_chunks):\n",
    "        print('Processing chunk number {}'.format(i))\n",
    "        df_tmp = lyrics_df[lyrics_df['track_id'].isin(track_list[i])]\n",
    "        pivot_df_tmp = df_tmp.pivot_table(index='track_id', columns=words, values='count', fill_value=0)\n",
    "        pivot_df = pivot_df.append(pivot_df_tmp).fillna(0)\n",
    "        del df_tmp\n",
    "        pivot_df = pivot_df.to_sparse(fill_value=0)\n",
    "\n",
    "    return pivot_df\n",
    "\n",
    "def save_pandas(fname, data):\n",
    "    '''Save DataFrame or Series\n",
    "    Parameters\n",
    "    ----------\n",
    "    fname : str\n",
    "        filename to use\n",
    "    data: Pandas DataFrame or Series\n",
    "    '''\n",
    "    np.save(open(fname, 'w'), data)\n",
    "    if len(data.shape) == 2:\n",
    "        meta = data.index,data.columns\n",
    "    elif len(data.shape) == 1:\n",
    "        meta = (data.index,)\n",
    "    else:\n",
    "        raise ValueError('save_pandas: Cannot save this type')\n",
    "    s = pickle.dumps(meta)\n",
    "    s = s.encode('string_escape')\n",
    "    with open(fname, 'a') as f:\n",
    "        f.seek(0, 2)\n",
    "        f.write(s)\n",
    "        \n",
    "def load_pandas(fname, mmap_mode='r'):\n",
    "    '''Load DataFrame or Series\n",
    "    Parameters\n",
    "    ----------\n",
    "    fname : str\n",
    "        filename\n",
    "    mmap_mode : str, optional\n",
    "        Same as numpy.load option\n",
    "    '''\n",
    "    values = np.load(fname, mmap_mode=mmap_mode)\n",
    "    with open(fname) as f:\n",
    "        np.lib.format.read_magic(f)\n",
    "        np.lib.format.read_array_header_1_0(f)\n",
    "        f.seek(values.dtype.alignment*values.size, 1)\n",
    "        meta = pickle.loads(f.readline().decode('string_escape'))\n",
    "    if len(meta) == 2:\n",
    "        return pd.DataFrame(values, index=meta[0], columns=meta[1])\n",
    "    elif len(meta) == 1:\n",
    "        return pd.Series(values, index=meta[0])"
   ]
  },
  {
   "cell_type": "code",
   "execution_count": null,
   "metadata": {},
   "outputs": [],
   "source": [
    "stp_wds             = stopwords.words()\n",
    "words_no_stopwords  = words[~np.isin(words.word, stp_wds)]\n",
    "lyrics_no_stopwords = lyrics[~np.isin(lyrics.word, stp_wds)]\n",
    "\n",
    "test_df             = pivot_by_chunks(get_n_songs(lyrics, n_songs=625, random=False), n_chunks=100)"
   ]
  },
  {
   "cell_type": "code",
   "execution_count": null,
   "metadata": {},
   "outputs": [],
   "source": [
    "save_pandas(\"pivoted_table_1000songs.npy\", test_df)"
   ]
  },
  {
   "cell_type": "code",
   "execution_count": null,
   "metadata": {},
   "outputs": [],
   "source": [
    "test_df = load_pandas(\"pivoted_table_1000songs.npy\")\n",
    "\n",
    "test_df.info()"
   ]
  },
  {
   "cell_type": "code",
   "execution_count": null,
   "metadata": {},
   "outputs": [],
   "source": [
    "indexes = test_df.index.values\n",
    "\n",
    "test_df[\"hotness_the_label\"] = np.zeros(len(test_df))\n",
    "\n",
    "for i in range(0, len(test_df)):\n",
    "    print(i)\n",
    "    for j in range(0, len(songs)):\n",
    "        if (songs.iloc[j][\"track_id\"] == indexes[i]):\n",
    "            test_df.ix[i, \"hotness_the_label\"] = songs.iloc[j][\"artist_hotttnesss\"]"
   ]
  },
  {
   "cell_type": "code",
   "execution_count": null,
   "metadata": {},
   "outputs": [],
   "source": [
    "new_lyrics = pd.DataFrame()\n",
    "new_lyrics = test_df[test_df[\"hotness_the_label\"] > 0]"
   ]
  },
  {
   "cell_type": "code",
   "execution_count": null,
   "metadata": {},
   "outputs": [],
   "source": [
    "new_lyrics.info()"
   ]
  },
  {
   "cell_type": "code",
   "execution_count": null,
   "metadata": {
    "collapsed": true
   },
   "outputs": [],
   "source": [
    "features = new_lyrics.iloc[:, 0:-1]\n",
    "label    = new_lyrics.iloc[:, -1]\n",
    "\n",
    "save_pandas(\"features.npy\", features)\n",
    "save_pandas(\"label.npy\", label)"
   ]
  },
  {
   "cell_type": "code",
   "execution_count": null,
   "metadata": {
    "collapsed": true
   },
   "outputs": [],
   "source": []
  }
 ],
 "metadata": {
  "kernelspec": {
   "display_name": "Python 3",
   "language": "python",
   "name": "python3"
  },
  "language_info": {
   "codemirror_mode": {
    "name": "ipython",
    "version": 2
   },
   "file_extension": ".py",
   "mimetype": "text/x-python",
   "name": "python",
   "nbconvert_exporter": "python",
   "pygments_lexer": "ipython2",
   "version": "2.7.12"
  }
 },
 "nbformat": 4,
 "nbformat_minor": 2
}

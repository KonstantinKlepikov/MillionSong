{
 "cells": [
  {
   "cell_type": "markdown",
   "metadata": {},
   "source": [
    "\"\"\"\n",
    "Thierry Bertin-Mahieux (2010) Columbia University\n",
    "tb2332@columbia.edu\n",
    "\n",
    "This code demo the use of the track_metadata.db\n",
    "It is almost the same as demo_track_metadata.py\n",
    "in the github repository\n",
    "\n",
    "This is part of the Million Song Dataset project from\n",
    "LabROSA (Columbia University) and The Echo Nest.\n",
    "\n",
    "Copyright 2010, Thierry Bertin-Mahieux\n",
    "\n",
    "This program is free software: you can redistribute it and/or modify\n",
    "it under the terms of the GNU General Public License as published by\n",
    "the Free Software Foundation, either version 3 of the License, or\n",
    "(at your option) any later version.\n",
    "\n",
    "This program is distributed in the hope that it will be useful,\n",
    "but WITHOUT ANY WARRANTY; without even the implied warranty of\n",
    "MERCHANTABILITY or FITNESS FOR A PARTICULAR PURPOSE.  See the\n",
    "GNU General Public License for more details.\n",
    "\n",
    "You should have received a copy of the GNU General Public License\n",
    "along with this program.  If not, see <http://www.gnu.org/licenses/>.\n",
    "\"\"\""
   ]
  },
  {
   "cell_type": "code",
   "execution_count": 91,
   "metadata": {
    "collapsed": false
   },
   "outputs": [],
   "source": [
    "import itertools\n",
    "import os\n",
    "import sys\n",
    "import glob\n",
    "import time\n",
    "import datetime\n",
    "import numpy as np\n",
    "import matplotlib.pyplot as plt\n",
    "import matplotlib as mpl\n",
    "import seaborn as sns; sns.set(color_codes=True)\n",
    "from pandas import DataFrame\n",
    "from sklearn import mixture\n",
    "from scipy import linalg\n",
    "from sklearn.cluster import KMeans\n",
    "from sklearn import datasets\n",
    "from sklearn.cluster import AgglomerativeClustering\n",
    "from sklearn.cluster import DBSCAN\n",
    "\n",
    "try:\n",
    "    import sqlite3\n",
    "except ImportError:\n",
    "    print 'you need sqlite3 installed to use this program'\n",
    "    sys.exit(0)\n",
    "    \n",
    "%matplotlib inline"
   ]
  },
  {
   "cell_type": "code",
   "execution_count": 2,
   "metadata": {
    "collapsed": true
   },
   "outputs": [],
   "source": [
    "def encode_string(s):\n",
    "    \"\"\"\n",
    "    Simple utility function to make sure a string is proper\n",
    "    to be used in a SQLite query\n",
    "    (different than posgtresql, no N to specify unicode)\n",
    "    EXAMPLE:\n",
    "      That's my boy! -> 'That''s my boy!'\n",
    "    \"\"\"\n",
    "    return \"'\"+s.replace(\"'\",\"''\")+\"'\""
   ]
  },
  {
   "cell_type": "code",
   "execution_count": 3,
   "metadata": {
    "collapsed": true
   },
   "outputs": [],
   "source": [
    "# PATH TO track_metadat.db\n",
    "# CHANGE THIS TO YOUR LOCAL CONFIGURATION\n",
    "# IT SHOULD BE IN THE ADDITIONAL FILES\n",
    "# (you can use 'subset_track_metadata.db')\n",
    "dbfile = '/home/michael/Barista/Music/MillionSongSubset/AdditionalFiles/subset_track_metadata.db'"
   ]
  },
  {
   "cell_type": "code",
   "execution_count": 15,
   "metadata": {
    "collapsed": false
   },
   "outputs": [],
   "source": [
    "# connect to the SQLite database\n",
    "conn = sqlite3.connect(dbfile)\n",
    "\n",
    "# from that connection, get a cursor to do queries\n",
    "c = conn.cursor()\n",
    "\n",
    "# so there is no confusion, the table name is 'songs'\n",
    "TABLENAME = 'songs'"
   ]
  },
  {
   "cell_type": "code",
   "execution_count": 17,
   "metadata": {
    "collapsed": false
   },
   "outputs": [
    {
     "name": "stdout",
     "output_type": "stream",
     "text": [
      "*************** GENERAL SQLITE DEMO ***************************\n",
      "* tables contained in that SQLite file/database (should be only 'songs'):\n",
      "[(u'songs',)]\n"
     ]
    }
   ],
   "source": [
    "print '*************** GENERAL SQLITE DEMO ***************************'\n",
    "\n",
    "# list all tables in that dataset\n",
    "# note that sqlite does the actual job when we call fetchall() or fetchone()\n",
    "q = \"SELECT name FROM sqlite_master WHERE type='table' ORDER BY name\"\n",
    "res = c.execute(q)\n",
    "print \"* tables contained in that SQLite file/database (should be only 'songs'):\"\n",
    "print res.fetchall()"
   ]
  },
  {
   "cell_type": "code",
   "execution_count": 18,
   "metadata": {
    "collapsed": false
   },
   "outputs": [
    {
     "name": "stdout",
     "output_type": "stream",
     "text": [
      "* get info on columns names (original table creation command):\n",
      "CREATE TABLE songs (track_id text PRIMARY KEY, title text, song_id text, release text, artist_id text, artist_mbid text, artist_name text, duration real, artist_familiarity real, artist_hotttnesss real, year int)\n"
     ]
    }
   ],
   "source": [
    "# list all columns names from table 'songs'\n",
    "q = \"SELECT sql FROM sqlite_master WHERE tbl_name = 'songs' AND type = 'table'\"\n",
    "res = c.execute(q)\n",
    "print '* get info on columns names (original table creation command):'\n",
    "print res.fetchall()[0][0]"
   ]
  },
  {
   "cell_type": "code",
   "execution_count": null,
   "metadata": {
    "collapsed": false
   },
   "outputs": [],
   "source": [
    "# list all indices\n",
    "q = \"SELECT name FROM sqlite_master WHERE type='index' AND tbl_name='songs' ORDER BY name\"\n",
    "res = c.execute(q)\n",
    "print '* one of the index we added to the table to make things faster:'\n",
    "print res.fetchone()"
   ]
  },
  {
   "cell_type": "code",
   "execution_count": null,
   "metadata": {
    "collapsed": false
   },
   "outputs": [],
   "source": [
    "# find the PRIMARY KEY of a query\n",
    "# by default it's called ROWID, it would have been redefined if our primary key\n",
    "# was of type INTEGER\n",
    "q = \"SELECT ROWID FROM songs WHERE artist_name='Red Hot Chili Peppers'\"\n",
    "res = c.execute(q)\n",
    "print '* get the primary key (row id) of one entry where the artist is Red Hot Chili Peppers:'\n",
    "print res.fetchone()"
   ]
  },
  {
   "cell_type": "code",
   "execution_count": null,
   "metadata": {
    "collapsed": false
   },
   "outputs": [],
   "source": [
    "# find an entry with Red Hot Chili Peppers as artist_name\n",
    "# returns all info (the full table row)\n",
    "q = \"SELECT * FROM songs WHERE artist_name='Red Hot Chili Peppers' LIMIT 1\"\n",
    "res = c.execute(q)\n",
    "print '* get all we have about one track from Red Hot Chili Peppers:'\n",
    "print res.fetchone()"
   ]
  },
  {
   "cell_type": "code",
   "execution_count": null,
   "metadata": {
    "collapsed": false
   },
   "outputs": [],
   "source": [
    "print '*************** DEMOS AROUND ARTIST_ID ************************'\n",
    "\n",
    "# query for all the artists Echo Nest ID\n",
    "# the column name is 'artist_id'\n",
    "# DISTINCT makes sure you get each ID returned only once\n",
    "q = \"SELECT DISTINCT artist_id FROM \" + TABLENAME\n",
    "res = c.execute(q)\n",
    "artists = res.fetchall() # does the actual job of searching the db\n",
    "print '* found',len(artists),'unique artist IDs, response looks like:'\n",
    "print artists[:3]"
   ]
  },
  {
   "cell_type": "code",
   "execution_count": null,
   "metadata": {
    "collapsed": false
   },
   "outputs": [],
   "source": [
    "# more cumbersome, get unique artist ID but with one track ID for each.\n",
    "# very usefull, it gives you a HDF5 file to query if you want more\n",
    "# information about this artist\n",
    "q = \"SELECT artist_id,track_id FROM songs GROUP BY artist_id\"\n",
    "res = c.execute(q)\n",
    "artist_track_pair = res.fetchone()\n",
    "print '* one unique artist with some track (chosen at random) associated with it:'\n",
    "print artist_track_pair"
   ]
  },
  {
   "cell_type": "code",
   "execution_count": null,
   "metadata": {
    "collapsed": false
   },
   "outputs": [],
   "source": [
    "# get artists having only one track in the database\n",
    "q = \"SELECT artist_id,track_id FROM songs GROUP BY artist_id HAVING ( COUNT(artist_id) = 1 )\"\n",
    "q += \" ORDER BY RANDOM()\"\n",
    "res = c.execute(q)\n",
    "artist_track_pair = res.fetchone()\n",
    "print '* one artist that has only one track in the dataset:'\n",
    "print artist_track_pair"
   ]
  },
  {
   "cell_type": "code",
   "execution_count": null,
   "metadata": {
    "collapsed": false
   },
   "outputs": [],
   "source": [
    "# get artists with no musicbrainz ID\n",
    "# of course, we want only once each artist\n",
    "# for demo purpose, we ask for only two at RANDOM\n",
    "q = \"SELECT artist_id,artist_mbid FROM songs WHERE artist_mbid=''\"\n",
    "q += \" GROUP BY artist_id ORDER BY RANDOM() LIMIT 2\"\n",
    "res = c.execute(q)\n",
    "print '* two random unique artists with no musicbrainz ID:'\n",
    "print res.fetchall()"
   ]
  },
  {
   "cell_type": "code",
   "execution_count": null,
   "metadata": {
    "collapsed": false
   },
   "outputs": [],
   "source": [
    "print '*************** DEMOS AROUND NAMES ****************************'\n",
    "\n",
    "# get all tracks by artist The Beatles\n",
    "# artist name must be exact!\n",
    "# the encode_string function simply deals with ' (by doubling them)\n",
    "# and add ' after and before the string.\n",
    "q = \"SELECT track_id FROM songs WHERE artist_name=\"\n",
    "q += encode_string('The Beatles')\n",
    "res = c.execute(q)\n",
    "print \"* two track id from 'The Beatles', found by looking up the artist by name:\"\n",
    "print res.fetchall()[:2]"
   ]
  },
  {
   "cell_type": "code",
   "execution_count": null,
   "metadata": {
    "collapsed": false
   },
   "outputs": [],
   "source": [
    "# we find all release starting by letter 'T'\n",
    "# T != t, we're just looking at albums starting with capital T\n",
    "# here we use DISTINCT instead of GROUP BY artist_id\n",
    "# since its fine that we find twice the same artist, as long as it is not\n",
    "# the same (artist,release) pair\n",
    "q = \"SELECT DISTINCT artist_name,release FROM songs WHERE SUBSTR(release,1,1)='T'\"\n",
    "res = c.execute(q)\n",
    "print '* one unique artist/release pair where album starts with capital T:'\n",
    "print res.fetchone()"
   ]
  },
  {
   "cell_type": "code",
   "execution_count": null,
   "metadata": {
    "collapsed": false
   },
   "outputs": [],
   "source": [
    "# get all artists whose artist familiarity is > .8\n",
    "q = \"SELECT DISTINCT artist_name, artist_familiarity FROM songs WHERE artist_familiarity>.8\"\n",
    "res = c.execute(q)\n",
    "print '* one artist having familiaryt >0.8:'\n",
    "print res.fetchone()"
   ]
  },
  {
   "cell_type": "code",
   "execution_count": null,
   "metadata": {
    "collapsed": false
   },
   "outputs": [],
   "source": [
    "# get one artist with the highest artist_familiarity but no artist_hotttnesss\n",
    "# notice the alias af and ah, makes things more readable\n",
    "q = \"SELECT DISTINCT artist_name, artist_familiarity as af, artist_hotttnesss as ah\"\n",
    "q += \" FROM songs WHERE ah<0 ORDER BY af\"\n",
    "res = c.execute(q)\n",
    "print '* get the artist with the highest familiarity that has no computed hotttnesss:'\n",
    "print res.fetchone()"
   ]
  },
  {
   "cell_type": "code",
   "execution_count": null,
   "metadata": {
    "collapsed": false
   },
   "outputs": [],
   "source": [
    "# query for all the Track_ids\n",
    "q = \"SELECT track_id FROM \" + TABLENAME\n",
    "res = c.execute(q)\n",
    "tracks = res.fetchall() # does the actual job of searching the db\n",
    "print '* found',len(tracks),'Track IDs, response looks like:'\n",
    "print tracks[:3]"
   ]
  },
  {
   "cell_type": "code",
   "execution_count": 7,
   "metadata": {
    "collapsed": true
   },
   "outputs": [],
   "source": [
    "# close the cursor and the connection\n",
    "# (if for some reason you added stuff to the db or alter\n",
    "#  a table, you need to also do a conn.commit())\n",
    "c.close()\n",
    "conn.close()"
   ]
  }
 ],
 "metadata": {
  "kernelspec": {
   "display_name": "Python 2",
   "language": "python",
   "name": "python2"
  },
  "language_info": {
   "codemirror_mode": {
    "name": "ipython",
    "version": 2
   },
   "file_extension": ".py",
   "mimetype": "text/x-python",
   "name": "python",
   "nbconvert_exporter": "python",
   "pygments_lexer": "ipython2",
   "version": "2.7.12"
  }
 },
 "nbformat": 4,
 "nbformat_minor": 0
}
